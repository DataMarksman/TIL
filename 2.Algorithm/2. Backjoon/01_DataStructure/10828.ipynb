{
 "cells": [
  {
   "cell_type": "code",
   "execution_count": 52,
   "id": "98ffab8a",
   "metadata": {},
   "outputs": [
    {
     "name": "stdout",
     "output_type": "stream",
     "text": [
      "5\n"
     ]
    },
    {
     "ename": "NameError",
     "evalue": "name 'split' is not defined",
     "output_type": "error",
     "traceback": [
      "\u001b[1;31m---------------------------------------------------------------------------\u001b[0m",
      "\u001b[1;31mNameError\u001b[0m                                 Traceback (most recent call last)",
      "Input \u001b[1;32mIn [52]\u001b[0m, in \u001b[0;36m<cell line: 1>\u001b[1;34m()\u001b[0m\n\u001b[1;32m----> 1\u001b[0m order \u001b[38;5;241m=\u001b[39m \u001b[38;5;28mlist\u001b[39m(\u001b[38;5;28mmap\u001b[39m(\u001b[38;5;28mstr\u001b[39m,\u001b[38;5;28minput\u001b[39m(),\u001b[43msplit\u001b[49m()))\n\u001b[0;32m      3\u001b[0m stack \u001b[38;5;241m=\u001b[39m []\n\u001b[0;32m      4\u001b[0m \u001b[38;5;28;01mdef\u001b[39;00m \u001b[38;5;21mpush\u001b[39m(a):\n",
      "\u001b[1;31mNameError\u001b[0m: name 'split' is not defined"
     ]
    }
   ],
   "source": [
    "order = input().split()\n",
    "\n",
    "stack = []\n",
    "def push(a):\n",
    "    stack += [a]\n",
    "\n",
    "def pop():\n",
    "    print(stack[int(len(stack)-1)])\n",
    "    stack.pop(int(len(stack)-1))\n",
    "\n",
    "def size():\n",
    "    print(len(stack))\n",
    "\n",
    "def empty():\n",
    "    if len(stack) == False:\n",
    "        print(1)\n",
    "    else:\n",
    "        print(0)\n",
    "\n",
    "def top():\n",
    "    if len(stack) != False:\n",
    "        print(stack[int(len(stack)-1)])\n",
    "    else:\n",
    "        print(int(-1))\n",
    "        \n",
    "if order "
   ]
  },
  {
   "cell_type": "code",
   "execution_count": 40,
   "id": "5702f6e1",
   "metadata": {},
   "outputs": [
    {
     "ename": "UnboundLocalError",
     "evalue": "local variable 'stack' referenced before assignment",
     "output_type": "error",
     "traceback": [
      "\u001b[1;31m---------------------------------------------------------------------------\u001b[0m",
      "\u001b[1;31mUnboundLocalError\u001b[0m                         Traceback (most recent call last)",
      "Input \u001b[1;32mIn [40]\u001b[0m, in \u001b[0;36m<cell line: 1>\u001b[1;34m()\u001b[0m\n\u001b[1;32m----> 1\u001b[0m \u001b[43mpush\u001b[49m\u001b[43m(\u001b[49m\u001b[38;5;241;43m4\u001b[39;49m\u001b[43m)\u001b[49m\n",
      "Input \u001b[1;32mIn [39]\u001b[0m, in \u001b[0;36mpush\u001b[1;34m(x)\u001b[0m\n\u001b[0;32m      2\u001b[0m \u001b[38;5;28;01mdef\u001b[39;00m \u001b[38;5;21mpush\u001b[39m(x):\n\u001b[1;32m----> 3\u001b[0m     stack \u001b[38;5;241m+\u001b[39m\u001b[38;5;241m=\u001b[39m [x]\n",
      "\u001b[1;31mUnboundLocalError\u001b[0m: local variable 'stack' referenced before assignment"
     ]
    }
   ],
   "source": [
    "push(4)"
   ]
  },
  {
   "cell_type": "code",
   "execution_count": 30,
   "id": "ed0f9d41",
   "metadata": {},
   "outputs": [
    {
     "name": "stdout",
     "output_type": "stream",
     "text": [
      "4\n"
     ]
    }
   ],
   "source": [
    "stack = [1,2,3,4]\n",
    "print(len(stack))"
   ]
  },
  {
   "cell_type": "code",
   "execution_count": 36,
   "id": "dcce67c8",
   "metadata": {},
   "outputs": [
    {
     "name": "stdout",
     "output_type": "stream",
     "text": [
      "1\n"
     ]
    }
   ],
   "source": [
    "top()"
   ]
  },
  {
   "cell_type": "code",
   "execution_count": 37,
   "id": "3a20702b",
   "metadata": {},
   "outputs": [
    {
     "data": {
      "text/plain": [
       "<function __main__.top()>"
      ]
     },
     "execution_count": 37,
     "metadata": {},
     "output_type": "execute_result"
    }
   ],
   "source": [
    "top"
   ]
  }
 ],
 "metadata": {
  "kernelspec": {
   "display_name": "Python 3 (ipykernel)",
   "language": "python",
   "name": "python3"
  },
  "language_info": {
   "codemirror_mode": {
    "name": "ipython",
    "version": 3
   },
   "file_extension": ".py",
   "mimetype": "text/x-python",
   "name": "python",
   "nbconvert_exporter": "python",
   "pygments_lexer": "ipython3",
   "version": "3.8.8"
  }
 },
 "nbformat": 4,
 "nbformat_minor": 5
}
